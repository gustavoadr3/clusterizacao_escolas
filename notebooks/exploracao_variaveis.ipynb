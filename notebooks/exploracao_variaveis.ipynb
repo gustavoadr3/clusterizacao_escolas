{
 "cells": [
  {
   "cell_type": "code",
   "execution_count": 2,
   "id": "68859534",
   "metadata": {},
   "outputs": [],
   "source": [
    "import pandas as pd "
   ]
  },
  {
   "cell_type": "code",
   "execution_count": 3,
   "id": "8a267fd8",
   "metadata": {},
   "outputs": [],
   "source": [
    "CAMINHO_DICIONARIO = r'../data/raw/dicionário_dados_educação_básica.xlsx'\n",
    "df_dicionario = pd.read_excel(CAMINHO_DICIONARIO, skiprows=6)"
   ]
  },
  {
   "cell_type": "code",
   "execution_count": 4,
   "id": "0bf1bf07",
   "metadata": {},
   "outputs": [],
   "source": [
    "def filtrar_variaveis_por_palavras(df, palavras, coluna_descricao='Descrição da Variável'):\n",
    "\n",
    "    palavras = [p.lower() for p in palavras]\n",
    "\n",
    "    def contem_palavra(desc):\n",
    "        desc = str(desc).lower()\n",
    "        return any(p in desc for p in palavras)\n",
    "\n",
    "    df_filtrado = df[df[coluna_descricao].apply(contem_palavra)].copy()\n",
    "    return df_filtrado[[\"Nome da Variável\", \"Descrição da Variável\", 'Categoria']]\n",
    "\n"
   ]
  },
  {
   "cell_type": "code",
   "execution_count": null,
   "id": "dd6263f4",
   "metadata": {},
   "outputs": [],
   "source": [
    "palavras_uno = [\n",
    "    \"internet\", \n",
    "    \"informática\", \n",
    "    \"computador\", \n",
    "    \"laboratório\",\n",
    "    \"rede\", \n",
    "    \"multimídia\", \n",
    "    \"conectividade\", \n",
    "    \"tecnologia\"\n",
    "]\n",
    "\n",
    "df_uno = filtrar_variaveis_por_palavras(df_dicionario, palavras_uno)\n"
   ]
  },
  {
   "cell_type": "code",
   "execution_count": 33,
   "id": "a9ddfeb3",
   "metadata": {},
   "outputs": [],
   "source": [
    "palavras_kepler = [\n",
    "    \"internet\",\n",
    "    \"informática\",\n",
    "    \"laboratório\",\n",
    "    \"equipamento multimídia\",\n",
    "    \"equipamento\",\n",
    "    \"biblioteca\",\n",
    "    \"coordenação pedagógica\",\n",
    "    \"coordenador\",\n",
    "    \"formação docente\",\n",
    "    \"estrutura\",\n",
    "    \"recurso\",\n",
    "    \"mensalidade\",\n",
    "    \"valor\",\n",
    "    \"preço\",\n",
    "    \"gratuidade\",\n",
    "    \"cobrança\",\n",
    "    \"custo\",\n",
    "    \"pagamento\",\n",
    "    \"bolsa\",\n",
    "    \"financeiro\"\n",
    "]\n",
    "\n",
    "\n",
    "df_kepler = filtrar_variaveis_por_palavras(df_dicionario, palavras_kepler)\n",
    "\n"
   ]
  },
  {
   "cell_type": "code",
   "execution_count": null,
   "id": "90589d44",
   "metadata": {},
   "outputs": [],
   "source": [
    "palavras_farias = [\n",
    "    \"comercial\", \n",
    "    \"particular\", \n",
    "    \"privada\", \n",
    "    \"urbana\", \n",
    "    \"categoria\", \n",
    "    \"rede\",\n",
    "    \"ensino médio\", \n",
    "    \"medio\", \n",
    "    \"etapa\", \n",
    "    \"modalidade\", \n",
    "    \"matrícula\", \n",
    "    \"turma\",\n",
    "    \"docente\", \n",
    "    \"professor\", \n",
    "    \"formação\", \n",
    "    \"escolaridade\", \n",
    "    \"pos-graduação\", \n",
    "    \"graduação\", \n",
    "    \"equipe pedagógica\",\n",
    "    \"internet\",\n",
    "    \"parceria\" \n",
    "    ]\n",
    "\n",
    "\n",
    "\n",
    "df_farias = filtrar_variaveis_por_palavras(df_dicionario, palavras_farias)\n"
   ]
  },
  {
   "cell_type": "code",
   "execution_count": 20,
   "id": "71d4ad6b",
   "metadata": {},
   "outputs": [],
   "source": [
    "palavras_compartilha = [\n",
    "    \"professor\", \n",
    "    \"docente\", \n",
    "    \"coordenação\", \n",
    "    \"coordenador\", \n",
    "    \"equipe pedagógica\", \n",
    "    \"pedagogo\",\n",
    "    \"formação\", \n",
    "    \"escolaridade\", \n",
    "    \"graduação\", \n",
    "    \"pós-graduação\", \n",
    "    \"estrutura\", \n",
    "    \"pedagógico\",\n",
    "    \"sistema de ensino\", \n",
    "    \"autonomia\", \n",
    "    \"material próprio\",\n",
    "    \"material pedagógico\", \n",
    "    \"próprio\"\n",
    "]\n",
    "\n",
    "df_compartilha = filtrar_variaveis_por_palavras(df_dicionario, palavras_compartilha)"
   ]
  },
  {
   "cell_type": "code",
   "execution_count": null,
   "id": "8ca88c63",
   "metadata": {},
   "outputs": [],
   "source": [
    "df_compartilha"
   ]
  }
 ],
 "metadata": {
  "kernelspec": {
   "display_name": "base",
   "language": "python",
   "name": "python3"
  },
  "language_info": {
   "codemirror_mode": {
    "name": "ipython",
    "version": 3
   },
   "file_extension": ".py",
   "mimetype": "text/x-python",
   "name": "python",
   "nbconvert_exporter": "python",
   "pygments_lexer": "ipython3",
   "version": "3.12.7"
  }
 },
 "nbformat": 4,
 "nbformat_minor": 5
}
